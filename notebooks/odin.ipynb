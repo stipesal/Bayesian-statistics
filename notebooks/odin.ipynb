{
 "cells": [
  {
   "cell_type": "code",
   "execution_count": 6,
   "metadata": {},
   "outputs": [],
   "source": [
    "import numpy as np\n",
    "import matplotlib.pyplot as plt\n",
    "from scipy.stats import binom"
   ]
  },
  {
   "cell_type": "code",
   "execution_count": 7,
   "metadata": {},
   "outputs": [],
   "source": [
    "plt.rc('axes', labelsize=14)     # fontsize of the x and y labels\n",
    "plt.rc('xtick', labelsize=12)    # fontsize of the tick labels\n",
    "plt.rc('ytick', labelsize=12)    # fontsize of the tick labels\n",
    "plt.rc('legend', fontsize=14)    # legend fontsize"
   ]
  },
  {
   "cell_type": "markdown",
   "metadata": {},
   "source": [
    "# The sons of Odin\n",
    "\n",
    "Odin had six sons, but there is no mention of daughters in the sources. \n",
    "To investigate the actual number of children with Bayesian methods we assume that the number of sons\n",
    "\n",
    "$$\n",
    "y \\sim \\text{Bin}(N, p_0)\n",
    "$$\n",
    "\n",
    "follows a binomial distribution where $N$ is the number of children of Odin and $p_0 = 0.515$ the boy probability as in Scandinavia today."
   ]
  },
  {
   "cell_type": "code",
   "execution_count": 8,
   "metadata": {},
   "outputs": [],
   "source": [
    "y0 = 6\n",
    "p0 = .515"
   ]
  },
  {
   "cell_type": "markdown",
   "metadata": {},
   "source": [
    "## Maximum likelihood estimation (MLE)\n",
    "To obtain an initial estimate for $N$, the density of $y$ is used as the likelihood function for the unknown $N$, that is\n",
    "\n",
    "$$\n",
    "L(N \\,|\\, y_0) = {N\\choose y_0} \\, p_0^{y_0} \\, (1 - p_0)^{N - y_0},\n",
    "$$\n",
    "\n",
    "where $y_0 = 6$ is the observed data. The following shows the likelihood function.\n",
    "\n",
    "__Note:__ The maximum likelihood estimator $N_{ML} = 11$ seems reasonable taking a closer look at the data $p_0$ and $y_0$."
   ]
  },
  {
   "cell_type": "code",
   "execution_count": 9,
   "metadata": {},
   "outputs": [],
   "source": [
    "max_N = 50\n",
    "Ns = np.arange(1, max_N + 1)\n",
    "\n",
    "lik = lambda N: binom.pmf(y0, N, p0)"
   ]
  },
  {
   "cell_type": "code",
   "execution_count": 10,
   "metadata": {},
   "outputs": [
    {
     "name": "stdout",
     "output_type": "stream",
     "text": [
      "ML estimation: N = 11\n"
     ]
    }
   ],
   "source": [
    "# MLE.\n",
    "mle = Ns[np.argmax(lik(Ns))]\n",
    "print(f\"ML estimation: N = {mle}\")"
   ]
  },
  {
   "cell_type": "code",
   "execution_count": 11,
   "metadata": {},
   "outputs": [
    {
     "data": {
      "image/png": "[encoded data removed]",
      "text/plain": [
       "<Figure size 432x288 with 1 Axes>"
      ]
     },
     "metadata": {
      "needs_background": "light"
     },
     "output_type": "display_data"
    }
   ],
   "source": [
    "# Plot.\n",
    "plt.scatter(Ns, lik(Ns))\n",
    "plt.ylabel(r\"$L(N \\,|\\, y_0)$\")\n",
    "plt.xlabel(r\"$N$\")\n",
    "plt.show()"
   ]
  },
  {
   "cell_type": "markdown",
   "metadata": {},
   "source": [
    "## Posterior distribution and credibility interval\n",
    "\n",
    "Expressing our guess for the true number of children $N$ via a prior distribution $p_0(N)$, we can use Bayes theorem to calculate the posterior distribution for $N$ given the observed number of sons $y_0 = 6$, that is\n",
    "\n",
    "$$\n",
    "p(N \\,|\\, y_0) \\propto p_0(N) \\cdot L(N \\,|\\, y_0).\n",
    "$$\n",
    "\n",
    "Furthermore, an $\\alpha$ - credibility interval $[c_l, c_r]$ for $N$ can be constructed by choosing $c_l$ as the $(1-\\alpha) \\,/\\, 2$ and $c_r$ as the $(1 + \\alpha) \\,/\\, 2$ quantile of the posterior distirbution $p(N \\,|\\, y_0)$."
   ]
  },
  {
   "cell_type": "code",
   "execution_count": 13,
   "metadata": {},
   "outputs": [],
   "source": [
    "def credibility_interval(pdf, alpha):\n",
    "    pdf = normalize_pdf(pdf(Ns))\n",
    "    cdf = np.cumsum(pdf)\n",
    "    low = Ns[np.argmin(np.abs(cdf - (1 - alpha) / 2))]\n",
    "    high = Ns[np.argmin(np.abs(cdf - (1 + alpha) / 2))]\n",
    "    return low, high"
   ]
  },
  {
   "cell_type": "markdown",
   "metadata": {},
   "source": [
    "### Simple prior\n",
    "\n",
    "For the first inference we utilize a fairly noninformative (or flat) prior which drops exponentially, namely\n",
    "\n",
    "$$\n",
    "p(N) \\propto \\frac{1}{N + 1}.\n",
    "$$"
   ]
  },
  {
   "cell_type": "code",
   "execution_count": 14,
   "metadata": {},
   "outputs": [],
   "source": [
    "normalize_pdf = lambda pdf: pdf / pdf.sum()\n",
    "\n",
    "prior = lambda N: 1 / (N + 1)\n",
    "post = lambda N: prior(N) * lik(N)"
   ]
  },
  {
   "cell_type": "code",
   "execution_count": 15,
   "metadata": {},
   "outputs": [
    {
     "name": "stdout",
     "output_type": "stream",
     "text": [
      "90% credibility interval for N: [7, 17]\n"
     ]
    }
   ],
   "source": [
    "# 90% credibility interval.\n",
    "low, high = credibility_interval(post, alpha=.90)\n",
    "print(f\"90% credibility interval for N: [{low}, {high}]\")"
   ]
  },
  {
   "cell_type": "code",
   "execution_count": 16,
   "metadata": {},
   "outputs": [
    {
     "data": {
      "image/png": "[encoded data removed]",
      "text/plain": [
       "<Figure size 432x288 with 1 Axes>"
      ]
     },
     "metadata": {
      "needs_background": "light"
     },
     "output_type": "display_data"
    }
   ],
   "source": [
    "# Plot.\n",
    "plt.scatter(Ns, normalize_pdf(lik(Ns)), label=r\"$p(y_0 \\,|\\, N)$\", s=15)\n",
    "plt.scatter(Ns, normalize_pdf(post(Ns)), label=r\"$p(N \\,|\\, y_0)$\", s=15)\n",
    "plt.scatter(Ns, normalize_pdf(prior(Ns)), label=r\"$p_0(N)$\", s=15)\n",
    "plt.vlines([low, high], 0, 0.15, colors=\"k\", linestyles=\"dashed\", lw=1., label=\"90% credibility\")\n",
    "plt.xlabel(r\"$N$\")\n",
    "plt.legend()\n",
    "plt.show()"
   ]
  },
  {
   "cell_type": "markdown",
   "metadata": {},
   "source": [
    "\n",
    "### More informative prior\n",
    "\n",
    "Now we would like to repeat the experiments using a different (possibly more informative) prior distribution $p_{new}$.\n",
    "For this purpose we use a function that is constant up until a certain $N_1$, drops quadratically for $N > N_1$, and equals zero for $N = 50$.\n",
    "The following piece wise defined function\n",
    "\n",
    "$$\n",
    "p_{own}(N) = \n",
    "\\begin{cases} \n",
    "      c & N \\leq N_1, \\\\\n",
    "      a (N - 50)^2 & N1 < N \\leq 50,\n",
    "\\end{cases}\n",
    "$$\n",
    "\n",
    "with $c, a > 0$ such that $p_{own}$ is a density fits our needs.\n",
    "We choose $N_1 = 10$, i.e. consider the probability of Odin having between 0 and 10 children to be equal, which can be contemporary, or bad.\n",
    "More than $N_1 = 10$ children are modelled as increasingly unlikely."
   ]
  },
  {
   "cell_type": "code",
   "execution_count": 18,
   "metadata": {},
   "outputs": [],
   "source": [
    "N1 = 10\n",
    "a = 3 / (N1 - 50) ** 2 / (2 * N1 + 50)\n",
    "c = a * (N1 - 50) ** 2\n",
    "new_prior = lambda N: (\n",
    "    np.where(\n",
    "        N <= N1,\n",
    "        c,\n",
    "        a * (N - 50)**2,\n",
    "    )\n",
    ")\n",
    "new_post = lambda N: new_prior(N) * lik(N)"
   ]
  },
  {
   "cell_type": "code",
   "execution_count": 19,
   "metadata": {},
   "outputs": [
    {
     "name": "stdout",
     "output_type": "stream",
     "text": [
      "90% credibility for N with new prior: [7, 18]\n"
     ]
    }
   ],
   "source": [
    "# 90% credibility interval.\n",
    "low, high = credibility_interval(new_post, alpha=0.90)\n",
    "print(f\"90% credibility for N with new prior: [{low}, {high}]\")"
   ]
  },
  {
   "cell_type": "code",
   "execution_count": 20,
   "metadata": {},
   "outputs": [
    {
     "data": {
      "image/png": "[encoded data removed]",
      "text/plain": [
       "<Figure size 432x288 with 1 Axes>"
      ]
     },
     "metadata": {
      "needs_background": "light"
     },
     "output_type": "display_data"
    }
   ],
   "source": [
    "# Plot.\n",
    "plt.scatter(Ns, normalize_pdf(prior(Ns)), c=\"C0\", label=r\"$p_0(N)$\", s=15, marker=\"x\")\n",
    "plt.scatter(Ns, normalize_pdf(post(Ns)), c=\"C0\", label=r\"$p(N \\,|\\, y_0)$\", s=15)\n",
    "plt.scatter(Ns, normalize_pdf(new_prior(Ns)), c=\"C1\", label=r\"$p_{new}(N)$\", s=15, marker=\"x\")\n",
    "plt.scatter(Ns, normalize_pdf(new_post(Ns)), c=\"C1\", label=r\"$p_{new}(N \\,|\\, y_0)$\", s=15)\n",
    "plt.vlines([low, high], 0, 0.15, colors=\"k\", linestyles=\"dashed\", lw=1., label=\"90% credibility\")\n",
    "plt.xlabel(r\"$N$\")\n",
    "plt.legend()\n",
    "plt.show()"
   ]
  },
  {
   "cell_type": "markdown",
   "metadata": {},
   "source": [
    "## Results\n",
    "\n",
    "The results do not change very much, the credibility interval has been extended by one to the right and the resulting posterior distributions look almost identical. The posterior distribution is essentially still strongly determined by the binomial distribution of the data, so the prior considerations do not have too much influence. "
   ]
  }
 ],
 "metadata": {
  "interpreter": {
   "hash": "5d271568f47c27bb73c1c5ed0fc62e875e518e63c2279912ab54858a6d6652ea"
  },
  "kernelspec": {
   "display_name": "Python 3 (ipykernel)",
   "language": "python",
   "name": "python3"
  },
  "language_info": {
   "codemirror_mode": {
    "name": "ipython",
    "version": 3
   },
   "file_extension": ".py",
   "mimetype": "text/x-python",
   "name": "python",
   "nbconvert_exporter": "python",
   "pygments_lexer": "ipython3",
   "version": "3.9.6"
  }
 },
 "nbformat": 4,
 "nbformat_minor": 2
}
