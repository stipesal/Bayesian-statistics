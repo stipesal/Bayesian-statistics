{
 "cells": [
  {
   "cell_type": "code",
   "execution_count": 2,
   "id": "ced98f99",
   "metadata": {},
   "outputs": [],
   "source": [
    "import matplotlib.pyplot as plt\n",
    "import numpy as np\n",
    "from numba import jit"
   ]
  },
  {
   "cell_type": "code",
   "execution_count": 3,
   "id": "45d52ca8",
   "metadata": {},
   "outputs": [],
   "source": [
    "plt.rc('axes', labelsize=14)     # fontsize of the x and y labels\n",
    "plt.rc('xtick', labelsize=12)    # fontsize of the tick labels\n",
    "plt.rc('ytick', labelsize=12)    # fontsize of the tick labels\n",
    "plt.rc('legend', fontsize=14)    # legend fontsize"
   ]
  },
  {
   "cell_type": "markdown",
   "id": "53c445f7",
   "metadata": {},
   "source": [
    "# Magic Squares\n",
    "\n",
    "A magic square of order $n \\in \\mathbb{N}$ is a square formation of the numbers $1, 2, \\ldots, n^2$ such that\n",
    "\n",
    "* each row,\n",
    "* each column,\n",
    "* and each diagonal\n",
    "\n",
    "sum up to the same number. This same number is called the **magic constant** and can be determined by\n",
    "\n",
    "$$\n",
    "M = n\\,(n^2 + 1) \\,/\\, 2,\n",
    "$$\n",
    "\n",
    "which is the sum of all the numbers in the magic square divided by $n$. \n",
    "\n",
    "\n",
    "### Example\n",
    "\n",
    "For instance if $n=3$, then an exemplary magic square is given by\n",
    "\n",
    "$$\n",
    "\\begin{bmatrix}\n",
    "8 & 1 & 6 \\\\\n",
    "3 & 5 & 7 \\\\\n",
    "4 & 9 & 2 \n",
    "\\end{bmatrix}\n",
    "$$\n",
    "\n",
    "with the magic constant $M = 15$. Let's test this using the function\n",
    "\n",
    "$$\n",
    "Q(x) = \\sum_{\\text{row}=1}^{n} |\\text{row}(x) - M| + \\sum_{\\text{col}=1}^{n} |\\text{col}(x) - M| + \\sum_{\\text{diag}=1}^{2} |\\text{diag}(x) - M|\n",
    "$$\n",
    "\n",
    "which measures the deviation to a being a magic square. Therefore\n",
    "\n",
    "$$x \\in \\mathbb{N}^{n \\times n} \\,\\,\\text{is a magic square}\\, \\iff Q(x) = 0.$$\n",
    "\n",
    "\n"
   ]
  },
  {
   "cell_type": "code",
   "execution_count": 4,
   "id": "e3a6b86b",
   "metadata": {},
   "outputs": [],
   "source": [
    "@jit(nopython=True)\n",
    "def Q(x):\n",
    "    \"\"\"\n",
    "    Returns the sum of deviations of the rows,\n",
    "    columns, and diagonals to the magic number.\n",
    "    \"\"\"\n",
    "    k = int(np.sqrt(x.size))\n",
    "    x = x.reshape(k, k)\n",
    "\n",
    "    rows = np.sum(x, axis=1)\n",
    "    cols = np.sum(x, axis=0)\n",
    "    diags = np.array([np.diag(x).sum(), np.diag(np.fliplr(x)).sum()])\n",
    "\n",
    "    magic_number = (k ** 3 + k) / 2\n",
    "\n",
    "    rows_dev = np.abs(rows - magic_number).sum()\n",
    "    cols_dev = np.abs(cols - magic_number).sum()\n",
    "    diags_dev = np.abs(diags - magic_number).sum()\n",
    "\n",
    "    return rows_dev + cols_dev + diags_dev"
   ]
  },
  {
   "cell_type": "code",
   "execution_count": 5,
   "id": "791eb483",
   "metadata": {},
   "outputs": [],
   "source": [
    "x = np.array(\n",
    "    [\n",
    "        [8, 1, 6],\n",
    "        [3, 5, 7],\n",
    "        [4, 9, 2],\n",
    "    ]\n",
    ")\n",
    "assert Q(x) == 0"
   ]
  },
  {
   "cell_type": "markdown",
   "id": "5c656c44",
   "metadata": {},
   "source": [
    "... and another one for $n = 4$."
   ]
  },
  {
   "cell_type": "code",
   "execution_count": 6,
   "id": "cf1faf1b",
   "metadata": {},
   "outputs": [],
   "source": [
    "x = np.array(\n",
    "    [\n",
    "        [4, 14, 15,  1],\n",
    "        [9,  7,  6, 12],\n",
    "        [5, 11, 10,  8],\n",
    "        [16, 2,  3, 13]\n",
    "    ]\n",
    ")\n",
    "assert Q(x) == 0"
   ]
  },
  {
   "cell_type": "markdown",
   "id": "38790df4",
   "metadata": {},
   "source": [
    " ## Markov Chain Monte Carlo (MCMC)\n",
    "\n",
    "In this notebook we want to find magic squares using a specific MCMC method, namely the **Metropolis algorithm**. This algorithm produces a sequence (or chain) of samples of a target distribution with random walk like properties. The randomness is introduced by a proposal distribution, and the next iteration value is either accepted or rejected. \n",
    "\n",
    "Let $n \\in \\mathbb{N}$ be a fixed order, $\\delta > 0$ an exploition parameter, and $x_0 \\in \\mathbb{N}^{n \\times n}$ the starting square consisting of the row-wise formation of the integers $1, 2, \\ldots, n^2$. Then the iteration procedure for the Metropolis algorithm is given by\n",
    "\n",
    "$$\n",
    "x_{i+1} =\n",
    "\\begin{cases} \n",
    "      x_i + \\delta n_i, & \\text{with prob} \\,\\, p_i \\\\\n",
    "      x_i, & \\text{with prob} \\,\\,(1 - p_i),\n",
    "\\end{cases}\n",
    "$$\n",
    "\n",
    "where $n_i$ is a sample from a symmetric proposal distribution and\n",
    "\n",
    "$$\n",
    "p_i = \\min \\left\\{1, \\frac{f(x_i + \\delta n_i)}{f(x_i)}\\right\\}\n",
    "$$\n",
    "\n",
    "is the probability of acceptance. Often $n_i \\sim N(p_i, \\sigma)$ is used as proposal, turning the sequence $(x_i)_{i \\in \\mathbb{N}}$ into a Gaussian random walk. The function $f$ is the target distribution, and the exploition $\\delta$ must be chosen well.\n",
    "The Metropolis algorithm is often used when direct sampling of a distribution is difficult or the number of dimensions is too high.\n",
    "\n",
    "**Discrete sample space**\n",
    "\n",
    "In our discrete magic squares world, we use a proposal distribution which basically changes two values in the current square, which is then either accepted or rejected. Also, the exploition parameter can be regarded here as $\\delta = 1$. We choose the target distribution\n",
    "\n",
    "$$\n",
    "f(x) = e ^ {- \\lambda Q(x)},\n",
    "$$\n",
    "\n",
    "with $\\lambda > 0$ being a hyperparameter that can regarded as the greediness of the algorithm."
   ]
  },
  {
   "cell_type": "code",
   "execution_count": 7,
   "id": "3ae13450",
   "metadata": {},
   "outputs": [],
   "source": [
    "@jit(nopython=True)\n",
    "def f(x):\n",
    "    lmbd = .8\n",
    "    return np.exp(-lmbd * Q(x))"
   ]
  },
  {
   "cell_type": "code",
   "execution_count": 8,
   "id": "6e9e4824",
   "metadata": {},
   "outputs": [],
   "source": [
    "@jit(nopython=True)\n",
    "def MCMC(f, n, sim):\n",
    "    success = False\n",
    "    pracc = np.zeros(sim)\n",
    "    ok = np.zeros(sim)\n",
    "    \n",
    "    u = np.random.rand(sim)\n",
    "\n",
    "    mcmc = np.zeros((sim, n ** 2))\n",
    "    mcmc[0] = np.arange(n ** 2) + 1\n",
    "    for i in range(sim - 1):\n",
    "        old = mcmc[i]\n",
    "\n",
    "        ix1 = np.random.randint(n ** 2)\n",
    "        ix2 = np.random.randint(n ** 2)\n",
    "        a, b = old[ix1], old[ix2]\n",
    "        prop = np.copy(old)\n",
    "        prop[ix1] = b\n",
    "        prop[ix2] = a\n",
    "\n",
    "        pracc[i] = min(1, np.exp(np.log(f(prop)) - np.log(f(old)))) # log exp trick\n",
    "\n",
    "        ok[i] = u[i] <= pracc[i]\n",
    "\n",
    "        mcmc[i+1] = ok[i] * prop + (1 - ok[i]) * old\n",
    "\n",
    "        if f(prop) == 1:\n",
    "            success = True\n",
    "            mcmc = mcmc[:(i+2)]\n",
    "            break\n",
    "\n",
    "    return mcmc, pracc, ok, success"
   ]
  },
  {
   "cell_type": "code",
   "execution_count": 9,
   "id": "019576b8",
   "metadata": {
    "scrolled": false
   },
   "outputs": [
    {
     "name": "stdout",
     "output_type": "stream",
     "text": [
      "--- SUCCESSFUL ---\n",
      "It took 58899 iterations to find a magic square with magic number M = 65\n",
      "\n",
      "[[24. 18. 20.  2.  1.]\n",
      " [ 8.  9.  6. 25. 17.]\n",
      " [15. 11. 13. 10. 16.]\n",
      " [14. 22.  3.  7. 19.]\n",
      " [ 4.  5. 23. 21. 12.]]\n",
      "\n",
      "Probability of acceptance: 0.00501\n"
     ]
    },
    {
     "data": {
      "image/png": "[encoded data removed]",
      "text/plain": [
       "<Figure size 432x288 with 1 Axes>"
      ]
     },
     "metadata": {
      "needs_background": "light"
     },
     "output_type": "display_data"
    }
   ],
   "source": [
    "n = 5\n",
    "mcmc, pracc, ok, success = MCMC(f, n, sim=10**6)\n",
    "\n",
    "if success:\n",
    "    print(\"--- SUCCESSFUL ---\")\n",
    "    print(\n",
    "        f\"It took {len(mcmc) - 1} iterations to find a magic square with magic number M = {int((n ** 3 + n) / 2)}\\n\"\n",
    "    )\n",
    "    print(mcmc[-1].reshape(n, n))\n",
    "else:\n",
    "    print(\"--- NOT SUCCESSFUL ---\")\n",
    "\n",
    "print(f\"\\nProbability of acceptance: {pracc.mean():.5f}\")\n",
    "\n",
    "q_values = [Q(x) for x in mcmc]\n",
    "plt.loglog(q_values)\n",
    "plt.xlabel(r\"iteration $n$\")\n",
    "plt.ylabel(r\"$Q(x_n)$\");"
   ]
  }
 ],
 "metadata": {
  "kernelspec": {
   "display_name": "Python 3 (ipykernel)",
   "language": "python",
   "name": "python3"
  },
  "language_info": {
   "codemirror_mode": {
    "name": "ipython",
    "version": 3
   },
   "file_extension": ".py",
   "mimetype": "text/x-python",
   "name": "python",
   "nbconvert_exporter": "python",
   "pygments_lexer": "ipython3",
   "version": "3.9.6"
  }
 },
 "nbformat": 4,
 "nbformat_minor": 5
}
